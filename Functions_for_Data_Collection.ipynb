{
  "nbformat": 4,
  "nbformat_minor": 0,
  "metadata": {
    "colab": {
      "provenance": []
    },
    "kernelspec": {
      "name": "python3",
      "display_name": "Python 3"
    },
    "language_info": {
      "name": "python"
    }
  },
  "cells": [
    {
      "cell_type": "markdown",
      "source": [
        "## YouTube Data API"
      ],
      "metadata": {
        "id": "HUbs0m9_CVDy"
      }
    },
    {
      "cell_type": "code",
      "source": [
        "import os\n",
        "\n",
        "import google_auth_oauthlib.flow\n",
        "import googleapiclient.discovery\n",
        "import googleapiclient.errors\n",
        "def get_youtube_object(client_secret_file):\n",
        "    os.environ[\"OAUTHLIB_INSECURE_TRANSPORT\"] = \"1\"\n",
        "\n",
        "    api_service_name = \"youtube\"\n",
        "    api_version = \"v3\"\n",
        "    scopes = [\"https://www.googleapis.com/auth/youtube.readonly\",'https://www.googleapis.com/auth/youtubepartner-channel-audit']\n",
        "    # Get credentials and create an API client\n",
        "\n",
        "    credentials = service_account.Credentials.from_service_account_file(client_secrets_file, scopes=scopes)\n",
        "    youtubeObject = googleapiclient.discovery.build(api_service_name, api_version, credentials=credentials)\n",
        "\n",
        "    return youtubeObject"
      ],
      "metadata": {
        "id": "5rCav2Kzv3vH"
      },
      "execution_count": null,
      "outputs": []
    },
    {
      "cell_type": "code",
      "execution_count": null,
      "metadata": {
        "id": "GyFoV9ScCUD7"
      },
      "outputs": [],
      "source": [
        "def collect_videos_matching_query(youtubeObject, order, categoryID=\"20\", startDate, endDate):\n",
        "\n",
        "    videos = []\n",
        "    nextPageToken = None\n",
        "    max_results = 50\n",
        "    total_videos_to_retrieve = 500\n",
        "\n",
        "    while True:\n",
        "        request = youtubeObject.search().list(\n",
        "            order = order,\n",
        "            publishedAfter = startDate,\n",
        "            publishedBefore = endDate,\n",
        "            part=\"snippet\",\n",
        "            maxResults=max_results,\n",
        "            videoCategoryId=categoryID,\n",
        "            type=\"video\",\n",
        "            videoDuration=\"short\",\n",
        "            pageToken=nextPageToken\n",
        "        )\n",
        "        response = request.execute()\n",
        "        videos += response.get('items', [])\n",
        "\n",
        "        # Check if we reached the desired number of videos or if there's no more videos to fetch\n",
        "        if len(videos) >= total_videos_to_retrieve or 'nextPageToken' not in response:\n",
        "            break\n",
        "\n",
        "        nextPageToken = response.get('nextPageToken')\n",
        "\n",
        "        # Update max_results if fewer videos are needed to reach the total\n",
        "        remaining_videos = total_videos_to_retrieve - len(videos)\n",
        "        if remaining_videos < max_results:\n",
        "            max_results = remaining_videos\n",
        "\n",
        "    return videos[:total_videos_to_retrieve]"
      ]
    },
    {
      "cell_type": "code",
      "source": [
        "def collect_all_videoIDs_from_channel(youtubeObject, channelID):\n",
        "    # Get the Uploads playlist ID\n",
        "    request = youtubeObject.channels().list(\n",
        "        part='contentDetails',\n",
        "        id=channelID\n",
        "    )\n",
        "    response = request.execute()\n",
        "    uploads_playlist_id = response['items'][0]['contentDetails']['relatedPlaylists']['uploads']\n",
        "\n",
        "    # Retrieve videos from the Uploads playlist\n",
        "    videos = []\n",
        "    next_page_token = None\n",
        "\n",
        "    while True:\n",
        "        request = youtubeObject.playlistItems().list(\n",
        "            part='snippet',\n",
        "            playlistId=uploads_playlist_id,\n",
        "            maxResults=50,\n",
        "            pageToken=next_page_token\n",
        "        )\n",
        "        response = request.execute()\n",
        "\n",
        "        videos += response['items']\n",
        "\n",
        "        next_page_token = response.get('nextPageToken')\n",
        "        if not next_page_token:\n",
        "            break\n",
        "    return videos"
      ],
      "metadata": {
        "id": "PfZ07f3lCdwJ"
      },
      "execution_count": null,
      "outputs": []
    },
    {
      "cell_type": "code",
      "source": [
        "def collect_video_details(youtubeObject, videoID):\n",
        "    request = youtubeObject.videos().list(\n",
        "        part=\"contentDetails,id,topicDetails,snippet,liveStreamingDetails,localizations,player,recordingDetails,statistics,status\",\n",
        "        id=videoID\n",
        "    )\n",
        "    response = request.execute()\n",
        "\n",
        "    return response"
      ],
      "metadata": {
        "id": "sVl6cSvMCjCZ"
      },
      "execution_count": null,
      "outputs": []
    },
    {
      "cell_type": "code",
      "source": [
        "def collect_channel_metrics(youtubeObject, channelID):\n",
        "    request = youtubeObject.channels().list(\n",
        "        part=\"snippet,statistics,topicDetails,status,brandingSettings,auditDetails,contentOwnerDetails,localizations\",\n",
        "        id=channelID\n",
        "    )\n",
        "    response = request.execute()\n",
        "\n",
        "    return response['items'][0]"
      ],
      "metadata": {
        "id": "frUw5LdMvt2-"
      },
      "execution_count": null,
      "outputs": []
    },
    {
      "cell_type": "markdown",
      "source": [
        "## Scraping YouTube"
      ],
      "metadata": {
        "id": "-mKZD4os3MYo"
      }
    },
    {
      "cell_type": "code",
      "source": [
        "from selenium import webdriver\n",
        "from selenium.webdriver.common.by import By\n",
        "from selenium.webdriver.chrome.service import Service\n",
        "from webdriver_manager.chrome import ChromeDriverManager\n",
        "import time\n",
        "\n",
        "def get_heat_map(videoID):\n",
        "    # Setup Chrome options\n",
        "    chrome_options = webdriver.ChromeOptions()\n",
        "    chrome_options.add_argument(\"--headless\")  # Optional argument to run Chrome in headless mode\n",
        "\n",
        "    # Initialize WebDriver\n",
        "    driver = webdriver.Chrome(service=Service(ChromeDriverManager().install()), options=chrome_options)\n",
        "\n",
        "    # Open the webpage\n",
        "    driver.get(f\"https://www.youtube.com/watch?v={videoID}\")\n",
        "\n",
        "    # Wait for the page to load and JavaScript to execute\n",
        "    time.sleep(3)  # Adjust the sleep time as necessary\n",
        "\n",
        "    # Find the element\n",
        "    try:\n",
        "        element = driver.find_element(By.CLASS_NAME, \"ytp-heat-map-path\")\n",
        "        return element.get_attribute('outerHTML')  # Return the HTML of the element\n",
        "    except Exception as e:\n",
        "        return \"Error finding element:\"+ str(e)\n",
        "\n",
        "    # Close the browser\n",
        "    driver.quit()\n"
      ],
      "metadata": {
        "id": "9FBJQawY3PiI"
      },
      "execution_count": null,
      "outputs": []
    },
    {
      "cell_type": "code",
      "source": [
        "from svgpathtools import parse_path\n",
        "import svgpathtools\n",
        "\n",
        "def process_heatmap(path_data, video_duration):\n",
        "    path = parse_path(path_data[35:-22])\n",
        "    # Initialize lists to store time and retention data\n",
        "    time_points = []\n",
        "    retention_points = []\n",
        "\n",
        "    # Extract points from the path\n",
        "    for segment in path:\n",
        "          if isinstance(segment, (svgpathtools.path.CubicBezier)):\n",
        "            for t in [0, 0.25, 0.5, 0.75, 1]:\n",
        "                point = segment.point(t)\n",
        "                x, y = point.real, point.imag\n",
        "                # Normalize x to the video duration and y to retention percentage\n",
        "                time_in_video = x / 1000 * video_duration  # Assuming x ranges from 0 to 1000\n",
        "                attention_retention = 100 - y  # Assuming y ranges from 0 (top) to 100 (bottom)\n",
        "                time_points.append(time_in_video)\n",
        "                retention_points.append(attention_retention)\n",
        "\n",
        "      # Combine time and retention into a list of tuples\n",
        "    time_retention_data = list(zip(time_points, retention_points))\n",
        "    return time_retention_data"
      ],
      "metadata": {
        "id": "bJYojeXE4FPX"
      },
      "execution_count": null,
      "outputs": []
    },
    {
      "cell_type": "code",
      "source": [
        "import requests\n",
        "\n",
        "def is_youtube_short(videoID):\n",
        "    shorts_url = f\"https://www.youtube.com/shorts/{videoID}\"\n",
        "    response = requests.head(shorts_url, allow_redirects=False)\n",
        "\n",
        "    if response.status_code == 200:\n",
        "        # Status code 200 and no redirection indicates it's a Short\n",
        "        return True\n",
        "    elif response.status_code == 303:\n",
        "        # Status code 303 with a redirect indicates it's not a Short\n",
        "        return False\n",
        "    else:\n",
        "        print(response.status_code, response)\n",
        "        # Other status codes or behaviors mean the result is inconclusive\n",
        "        return None"
      ],
      "metadata": {
        "id": "FDvlZm974QLP"
      },
      "execution_count": null,
      "outputs": []
    },
    {
      "cell_type": "code",
      "source": [
        "import requests\n",
        "\n",
        "def get_youtube_html(videoID, is_short = True):\n",
        "    if is_short:\n",
        "        url = f\"https://www.youtube.com/shorts/{videoID}\"\n",
        "    else:\n",
        "        print('video, not short:', video_id)\n",
        "        url = f'https://www.youtube.com/watch?v={videoID}'\n",
        "    # Send a GET request to the URL\n",
        "    response = requests.get(url)\n",
        "\n",
        "    # Check if the request was successful\n",
        "    if response.status_code == 200:\n",
        "        return response.text\n",
        "    else:\n",
        "        return \"Failed to retrieve HTML\""
      ],
      "metadata": {
        "id": "mV9Ctzs04ciw"
      },
      "execution_count": null,
      "outputs": []
    },
    {
      "cell_type": "code",
      "source": [
        "from bs4 import BeautifulSoup\n",
        "import json, requests\n",
        "def is_youtube_short_and_get_linked_video(videoID):\n",
        "    shorts_url = f\"https://www.youtube.com/shorts/{videoID}\"\n",
        "    response = requests.get(shorts_url, allow_redirects=False)\n",
        "    if response.status_code == 200:\n",
        "      # Status code 200 and no redirection indicates it's a Short\n",
        "        html_content = response.text\n",
        "\n",
        "        soup = BeautifulSoup(html_content, 'lxml')\n",
        "\n",
        "        for a in soup.descendants:\n",
        "            if 'ytInitialData' in a:\n",
        "                v = json.loads(a[20:-1])\n",
        "                try:\n",
        "                  linked_videoID = v['overlay']['reelPlayerOverlayRenderer']['multiFormatLink']['reelMultiFormatLinkViewModel']['command']['innertubeCommand']['watchEndpoint']['videoId']\n",
        "                  return (True, (videoID, linked_videoID))\n",
        "                except:\n",
        "                  return (True, None)\n",
        "        return (True, None)\n",
        "    elif response.status_code == 303:\n",
        "        # Status code 303 with a redirect indicates it's not a Short\n",
        "        return (False, None)\n",
        "    else:\n",
        "        print(response.status_code, response)\n",
        "        # Other status codes or behaviors mean the result is inconclusive\n",
        "        return (None, None)"
      ],
      "metadata": {
        "id": "HRUniJPc4mLQ"
      },
      "execution_count": null,
      "outputs": []
    },
    {
      "cell_type": "markdown",
      "source": [
        "### Youtube Transcript API"
      ],
      "metadata": {
        "id": "yTT70UBxGX5b"
      }
    },
    {
      "cell_type": "code",
      "source": [
        "from youtube_transcript_api import YouTubeTranscriptApi\n",
        "from youtube_transcript_api._errors import NoTranscriptFound\n",
        "\n",
        "def get_subtitles(videoID):\n",
        "    try:\n",
        "        return YouTubeTranscriptApi.get_transcript(videoID)\n",
        "    except NoTranscriptFound:\n",
        "        return {}\n",
        "    except Exception as e:\n",
        "        print(f\"An error occurred: {e}\")\n",
        "        return {}\n"
      ],
      "metadata": {
        "id": "VIv0fcfR5td_"
      },
      "execution_count": null,
      "outputs": []
    }
  ]
}